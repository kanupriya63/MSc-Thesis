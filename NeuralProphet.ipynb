{
 "cells": [
  {
   "cell_type": "code",
   "execution_count": null,
   "id": "4f780402",
   "metadata": {
    "id": "4f780402"
   },
   "outputs": [],
   "source": [
    "import numpy as np\n",
    "import pandas as pd\n",
    "import matplotlib.pyplot as plt\n",
    "import seaborn as sns\n",
    "import matplotlib.ticker as ticker\n",
    "import numpy as np \n",
    "import scipy\n",
    "import pandas as pd\n",
    "from matplotlib import pyplot as plt \n",
    "import seaborn as sns\n",
    "import os # imports for loading data\n",
    "from tqdm import tqdm"
   ]
  },
  {
   "cell_type": "code",
   "execution_count": null,
   "id": "3b2f4b4e",
   "metadata": {},
   "outputs": [],
   "source": [
    "# !pip install pystan==2.19.1.1"
   ]
  },
  {
   "cell_type": "code",
   "execution_count": null,
   "id": "0ec4b67e",
   "metadata": {},
   "outputs": [],
   "source": [
    "# !pip install prophet"
   ]
  },
  {
   "cell_type": "code",
   "execution_count": null,
   "id": "d37bdaca",
   "metadata": {},
   "outputs": [],
   "source": [
    "# !pip install neuralprophet"
   ]
  },
  {
   "cell_type": "code",
   "execution_count": null,
   "id": "67ff84fc",
   "metadata": {},
   "outputs": [],
   "source": [
    "from prophet import Prophet\n",
    "from neuralprophet import NeuralProphet"
   ]
  },
  {
   "cell_type": "code",
   "execution_count": null,
   "id": "f0ff8300",
   "metadata": {},
   "outputs": [],
   "source": [
    "from prophet.plot import plot_plotly\n",
    "import numpy as np\n",
    "import pandas as pd\n",
    "import matplotlib.pyplot as plt\n",
    "import plotly.offline as py\n",
    "py.init_notebook_mode()\n",
    "%matplotlib inline"
   ]
  },
  {
   "cell_type": "code",
   "execution_count": null,
   "id": "y_2wBfpKe5Ts",
   "metadata": {
    "id": "y_2wBfpKe5Ts"
   },
   "outputs": [],
   "source": []
  },
  {
   "cell_type": "code",
   "execution_count": null,
   "id": "44d4b10d",
   "metadata": {
    "colab": {
     "base_uri": "https://localhost:8080/",
     "height": 241
    },
    "id": "44d4b10d",
    "outputId": "fc448f91-75e1-45a0-b8bd-8c73a91d71c7"
   },
   "outputs": [],
   "source": [
    "# Importing the signal in\n",
    "df = pd.read_csv(os.path.abspath('turn_over.csv'), index_col=False) \n",
    "#df = pd.read_csv(os.path.abspath('/content/turn_over.csv'), index_col=False) \n",
    "print(f\"Successfully read in {df.size} values.\")\n",
    "print(\"First 5 values:\")\n",
    "df.head(5)"
   ]
  },
  {
   "cell_type": "code",
   "execution_count": null,
   "id": "02b21be8",
   "metadata": {
    "id": "02b21be8"
   },
   "outputs": [],
   "source": [
    "list_Month = [i.split(\" \")[0][0:2] for i in  list(df['CALENDAR_DATE'])]\n",
    "list_Date = [i.split(\" \")[0][6:8] for i in  list(df['CALENDAR_DATE'])]\n",
    "list_Year = [i.split(\" \")[0][3:5] for i in  list(df['CALENDAR_DATE'])]\n",
    "\n",
    "df['Month'] = list_Month\n",
    "df['Date'] = list_Date\n",
    "df['Year'] = list_Year"
   ]
  },
  {
   "cell_type": "code",
   "execution_count": null,
   "id": "14144c89",
   "metadata": {
    "id": "14144c89"
   },
   "outputs": [],
   "source": [
    "df['ds'] = pd.DatetimeIndex(df['Year']+'-'+df['Month']+'-'+df['Date'])"
   ]
  },
  {
   "cell_type": "code",
   "execution_count": null,
   "id": "7ea7d35c",
   "metadata": {
    "id": "7ea7d35c"
   },
   "outputs": [],
   "source": [
    "df= df.rename(columns=str.lower)"
   ]
  },
  {
   "cell_type": "code",
   "execution_count": null,
   "id": "b87ee7b7",
   "metadata": {
    "id": "b87ee7b7"
   },
   "outputs": [],
   "source": [
    "df = df.drop_duplicates(inplace=False,keep='first')"
   ]
  },
  {
   "cell_type": "code",
   "execution_count": null,
   "id": "cb782827",
   "metadata": {
    "id": "cb782827"
   },
   "outputs": [],
   "source": [
    "df.reset_index(inplace=True,drop=True)"
   ]
  },
  {
   "cell_type": "code",
   "execution_count": null,
   "id": "5bf7ddb7",
   "metadata": {
    "id": "5bf7ddb7"
   },
   "outputs": [],
   "source": [
    "df = df.groupby(['ds','cust_id','jurisdiction'])['turnover'].sum()\n",
    "df = pd.DataFrame(df)\n",
    "df = df.rename_axis(['ds', 'cust_id', 'jurisdiction']).reset_index()"
   ]
  },
  {
   "cell_type": "code",
   "execution_count": null,
   "id": "b87e5764",
   "metadata": {
    "colab": {
     "base_uri": "https://localhost:8080/"
    },
    "id": "b87e5764",
    "outputId": "baf901d5-8a63-48ab-892a-2f887390cd54"
   },
   "outputs": [],
   "source": [
    "df['ds'].agg(['min', 'max'])\n",
    "#334 days`"
   ]
  },
  {
   "cell_type": "code",
   "execution_count": null,
   "id": "57944972",
   "metadata": {
    "colab": {
     "base_uri": "https://localhost:8080/"
    },
    "id": "57944972",
    "outputId": "8676fa46-9dc0-45c0-fc25-65b9d927b19a"
   },
   "outputs": [],
   "source": [
    "df.cust_id.nunique()"
   ]
  },
  {
   "cell_type": "code",
   "execution_count": null,
   "id": "d9beb8ad",
   "metadata": {
    "colab": {
     "base_uri": "https://localhost:8080/"
    },
    "id": "d9beb8ad",
    "outputId": "74e9ca50-e64c-48e5-a5cc-7235921c4970"
   },
   "outputs": [],
   "source": [
    "juris = list(set(df['jurisdiction']))\n",
    "juris"
   ]
  },
  {
   "cell_type": "code",
   "execution_count": null,
   "id": "1d0c3f46",
   "metadata": {
    "id": "1d0c3f46"
   },
   "outputs": [],
   "source": [
    "df1 = df[df['jurisdiction']=='DK'].reset_index(drop=True)\n",
    "df2 = df[df['jurisdiction']=='BE'].reset_index(drop=True)\n",
    "df3 = df[df['jurisdiction']=='MT'].reset_index(drop=True)\n",
    "df4 = df[df['jurisdiction']=='IE'].reset_index(drop=True)\n",
    "df5 = df[df['jurisdiction']=='DE'].reset_index(drop=True)\n",
    "df6 = df[df['jurisdiction']=='NT'].reset_index(drop=True)\n",
    "df7 = df[df['jurisdiction']=='SE'].reset_index(drop=True)\n",
    "df8 = df[df['jurisdiction']=='EE'].reset_index(drop=True)\n",
    "df9 = df[df['jurisdiction']=='RO'].reset_index(drop=True)\n",
    "df10 = df[df['jurisdiction']=='IT'].reset_index(drop=True)\n",
    "df11 = df[df['jurisdiction']=='UK'].reset_index(drop=True)\n"
   ]
  },
  {
   "cell_type": "code",
   "execution_count": null,
   "id": "a08f386f",
   "metadata": {
    "colab": {
     "base_uri": "https://localhost:8080/",
     "height": 424
    },
    "id": "a08f386f",
    "outputId": "b1aee60e-8b8a-411c-e2d8-40772493d626"
   },
   "outputs": [],
   "source": [
    "df"
   ]
  },
  {
   "cell_type": "code",
   "execution_count": null,
   "id": "344071ec",
   "metadata": {
    "colab": {
     "base_uri": "https://localhost:8080/"
    },
    "id": "344071ec",
    "outputId": "f815fe7e-3c19-4e91-cd88-b31d040d0106"
   },
   "outputs": [],
   "source": [
    "df['turnover'].sum()"
   ]
  },
  {
   "cell_type": "code",
   "execution_count": null,
   "id": "a085b137",
   "metadata": {
    "colab": {
     "base_uri": "https://localhost:8080/",
     "height": 206
    },
    "id": "a085b137",
    "outputId": "f319655e-d4c7-48a7-b24d-ec94e2bb6838"
   },
   "outputs": [],
   "source": [
    "df1.head()"
   ]
  },
  {
   "cell_type": "code",
   "execution_count": null,
   "id": "e756d27b",
   "metadata": {
    "colab": {
     "base_uri": "https://localhost:8080/"
    },
    "id": "e756d27b",
    "outputId": "94a1fec2-b47d-4a73-d2aa-81c4ae2d1817"
   },
   "outputs": [],
   "source": [
    "df1.shape"
   ]
  },
  {
   "cell_type": "code",
   "execution_count": null,
   "id": "a412fb9c",
   "metadata": {
    "colab": {
     "base_uri": "https://localhost:8080/"
    },
    "id": "a412fb9c",
    "outputId": "5ec47aab-3c9d-43c6-f0a1-8e93b2eaffbe"
   },
   "outputs": [],
   "source": [
    "df1.turnover.sum()"
   ]
  },
  {
   "cell_type": "code",
   "execution_count": null,
   "id": "8ffc0241",
   "metadata": {
    "colab": {
     "base_uri": "https://localhost:8080/"
    },
    "id": "8ffc0241",
    "outputId": "330c8159-820d-45c0-ced2-b40bd79a8300"
   },
   "outputs": [],
   "source": [
    "df1.cust_id.nunique()"
   ]
  },
  {
   "cell_type": "code",
   "execution_count": null,
   "id": "f99bb711",
   "metadata": {
    "colab": {
     "base_uri": "https://localhost:8080/"
    },
    "id": "f99bb711",
    "outputId": "2a31570f-37a7-47f7-8bfb-6ceec811f750"
   },
   "outputs": [],
   "source": [
    "594*334"
   ]
  },
  {
   "cell_type": "code",
   "execution_count": null,
   "id": "20f297c3",
   "metadata": {
    "id": "20f297c3"
   },
   "outputs": [],
   "source": [
    "# my_dates = pd.date_range('2021-07-01', '2022-05-30', freq='D')\n",
    "\n",
    "# idx= pd.MultiIndex.from_product([my_dates, df1.cust_id.unique()],names=['ds', 'cust_id'])\n",
    "# df1 = df1.set_index(['ds', 'cust_id']).reindex(idx).fillna(0).reset_index()"
   ]
  },
  {
   "cell_type": "code",
   "execution_count": null,
   "id": "0cff6d61",
   "metadata": {
    "id": "0cff6d61"
   },
   "outputs": [],
   "source": [
    "# df1['jurisdiction'] = df1['jurisdiction'][0]"
   ]
  },
  {
   "cell_type": "code",
   "execution_count": null,
   "id": "9254919a",
   "metadata": {
    "id": "9254919a"
   },
   "outputs": [],
   "source": [
    "def addzeros(dataframe):\n",
    "    juris = dataframe['jurisdiction'][0]\n",
    "    my_dates = pd.date_range('2021-07-01', '2022-05-30', freq='D')\n",
    "    idx= pd.MultiIndex.from_product([my_dates, dataframe.cust_id.unique()],names=['ds', 'cust_id'])\n",
    "    dataframe = dataframe.set_index(['ds', 'cust_id']).reindex(idx).fillna(0).reset_index()\n",
    "    dataframe['jurisdiction'] = juris\n",
    "    return (dataframe)"
   ]
  },
  {
   "cell_type": "code",
   "execution_count": null,
   "id": "e24e7f39",
   "metadata": {
    "id": "e24e7f39"
   },
   "outputs": [],
   "source": [
    "df1 = addzeros(df1)\n",
    "df2 = addzeros(df2)\n",
    "df3 = addzeros(df3)\n",
    "df4 = addzeros(df4)\n",
    "df5 = addzeros(df5)\n",
    "df6 = addzeros(df6)\n",
    "df7 = addzeros(df7)\n",
    "df8 = addzeros(df8)\n",
    "df9 = addzeros(df9)\n",
    "df10 = addzeros(df10)\n",
    "df11 = addzeros(df11)"
   ]
  },
  {
   "cell_type": "code",
   "execution_count": null,
   "id": "c1797253",
   "metadata": {
    "id": "c1797253"
   },
   "outputs": [],
   "source": [
    "dataframe = pd.concat([df1, df2,df3,df4,df5,df6,df7,df8,df9,df10,df11], ignore_index=True)"
   ]
  },
  {
   "cell_type": "code",
   "execution_count": null,
   "id": "0eacdac1",
   "metadata": {
    "colab": {
     "base_uri": "https://localhost:8080/",
     "height": 424
    },
    "id": "0eacdac1",
    "outputId": "3053872e-b443-4010-a677-57a4c21f1325"
   },
   "outputs": [],
   "source": [
    "dataframe"
   ]
  },
  {
   "cell_type": "code",
   "execution_count": null,
   "id": "8e044f85",
   "metadata": {},
   "outputs": [],
   "source": []
  },
  {
   "cell_type": "code",
   "execution_count": null,
   "id": "cea2bf8a",
   "metadata": {},
   "outputs": [],
   "source": [
    "#5520\n",
    "customer = dataframe[dataframe[\"cust_id\"] == 10081].reset_index()\n",
    "#10081\n",
    "#customer = df[df[\"cust_id\"] == 5520].reset_index()\n"
   ]
  },
  {
   "cell_type": "code",
   "execution_count": null,
   "id": "66d37a8e",
   "metadata": {},
   "outputs": [],
   "source": [
    "customer.shape"
   ]
  },
  {
   "cell_type": "code",
   "execution_count": null,
   "id": "5adab5e9",
   "metadata": {},
   "outputs": [],
   "source": [
    "    c = customer.drop(['index','cust_id','jurisdiction'],axis=1)\n",
    "    c.columns = ['ds', 'y']\n",
    "    \n",
    "    threshold_date = pd.to_datetime('2021-12-27')\n",
    "    mask = c['ds'] < threshold_date\n",
    "    # Split the data and select `ds` and `y` columns.\n",
    "    df_train = c[mask][['ds', 'y']]\n",
    "    df_test = c[~ mask][['ds', 'y']]"
   ]
  },
  {
   "cell_type": "code",
   "execution_count": null,
   "id": "c6426883",
   "metadata": {},
   "outputs": [],
   "source": [
    "print(df_train.shape)\n",
    "print(df_test.shape)"
   ]
  },
  {
   "cell_type": "code",
   "execution_count": null,
   "id": "6a28e5cb",
   "metadata": {},
   "outputs": [],
   "source": [
    "n = NeuralProphet(n_lags =2, num_hidden_layers =2,seasonality_mode = 'multiplicative',learning_rate = 0.01,\n",
    "                  weekly_seasonality = True, daily_seasonality = True,collect_metrics = True)\n",
    "n.add_seasonality(name='monthly', period=30.5, fourier_order=5)\n",
    "modeln = n.fit(df_train, freq='D')"
   ]
  },
  {
   "cell_type": "code",
   "execution_count": null,
   "id": "5ca05619",
   "metadata": {},
   "outputs": [],
   "source": [
    "futuren = n.make_future_dataframe(c,periods=150,n_historic_predictions=True)\n",
    "forecastn = n.predict(futuren)"
   ]
  },
  {
   "cell_type": "code",
   "execution_count": null,
   "id": "6ff07340",
   "metadata": {},
   "outputs": [],
   "source": [
    "mask2 = forecastn['ds'] < threshold_date\n",
    "\n",
    "forecast_train = forecastn[mask2]\n",
    "forecast_test = forecastn[~ mask2]"
   ]
  },
  {
   "cell_type": "code",
   "execution_count": null,
   "id": "2440b304",
   "metadata": {},
   "outputs": [],
   "source": [
    "import seaborn as sns\n",
    "sns.set_style('darkgrid', {'axes.facecolor': '.9'})\n",
    "sns.set_palette(palette='deep')\n",
    "sns_c = sns.color_palette(palette='deep')\n",
    "%matplotlib inline\n",
    "\n",
    "from pandas.plotting import register_matplotlib_converters\n",
    "register_matplotlib_converters()"
   ]
  },
  {
   "cell_type": "code",
   "execution_count": null,
   "id": "b3724880",
   "metadata": {},
   "outputs": [],
   "source": [
    "forecastn = forecastn.fillna(value=np.nan)"
   ]
  },
  {
   "cell_type": "code",
   "execution_count": null,
   "id": "2cc4d65a",
   "metadata": {},
   "outputs": [],
   "source": [
    "fig, ax = plt.subplots()\n",
    "\n",
    "# ax.fill_between(\n",
    "#     x=forecastn['ds'],\n",
    "#     y1=forecastn['yhat_lower'],\n",
    "#     y2=forecastn['yhat_upper'],\n",
    "#     color=sns_c[2], \n",
    "#     alpha=0.25,\n",
    "#     label=r'0.95 credible_interval'\n",
    "# )\n",
    "#all_numeric(forecastn.dropna())\n",
    "sns.lineplot(x='ds', y='y', label='y_train', data=df_train, ax=ax)\n",
    "sns.lineplot(x='ds', y='y', label='y_test', data=df_test, ax=ax)\n",
    "sns.lineplot(x='ds', y='yhat1', label='y_hat', data=forecastn, ax=ax)\n",
    "ax.axvline(threshold_date, color=sns_c[3], linestyle='--', label='train test split')\n",
    "ax.legend(loc='upper left')\n",
    "ax.set(title='Dependent Variable', ylabel='');"
   ]
  },
  {
   "cell_type": "code",
   "execution_count": null,
   "id": "8be5f845",
   "metadata": {},
   "outputs": [],
   "source": [
    "forecastn"
   ]
  },
  {
   "cell_type": "code",
   "execution_count": null,
   "id": "17659c64",
   "metadata": {},
   "outputs": [],
   "source": [
    "n.plot(forecastn)"
   ]
  },
  {
   "cell_type": "code",
   "execution_count": null,
   "id": "a9e47e95",
   "metadata": {},
   "outputs": [],
   "source": [
    "n.plot_components(forecastn)"
   ]
  },
  {
   "cell_type": "code",
   "execution_count": null,
   "id": "762cb491",
   "metadata": {},
   "outputs": [],
   "source": []
  }
 ],
 "metadata": {
  "kernelspec": {
   "display_name": "Python 3",
   "language": "python",
   "name": "python3"
  },
  "language_info": {
   "codemirror_mode": {
    "name": "ipython",
    "version": 3
   },
   "file_extension": ".py",
   "mimetype": "text/x-python",
   "name": "python",
   "nbconvert_exporter": "python",
   "pygments_lexer": "ipython3",
   "version": "3.8.8"
  }
 },
 "nbformat": 4,
 "nbformat_minor": 5
}
