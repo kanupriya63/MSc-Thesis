{
 "cells": [
  {
   "cell_type": "code",
   "execution_count": null,
   "id": "b71633bb",
   "metadata": {},
   "outputs": [],
   "source": [
    "import numpy as np\n",
    "import pandas as pd\n",
    "import matplotlib.pyplot as plt\n",
    "import seaborn as sns\n",
    "import matplotlib.ticker as ticker\n",
    "import numpy as np \n",
    "import scipy\n",
    "import pandas as pd\n",
    "from matplotlib import pyplot as plt \n",
    "import seaborn as sns\n",
    "import os # imports for loading data\n",
    "from tqdm import tqdm"
   ]
  },
  {
   "cell_type": "code",
   "execution_count": null,
   "id": "4a41719f",
   "metadata": {},
   "outputs": [],
   "source": [
    "# Importing the data in\n",
    "df = pd.read_csv(os.path.abspath('turn_over.csv'), index_col=False) \n",
    "print(f\"Successfully read in {df.size} values.\")\n",
    "\n",
    "print(\"First 5 values:\")\n",
    "df.head(5)"
   ]
  },
  {
   "cell_type": "code",
   "execution_count": null,
   "id": "02b21be8",
   "metadata": {
    "id": "02b21be8"
   },
   "outputs": [],
   "source": [
    "list_Month = [i.split(\" \")[0][0:2] for i in  list(df['CALENDAR_DATE'])]\n",
    "list_Date = [i.split(\" \")[0][6:8] for i in  list(df['CALENDAR_DATE'])]\n",
    "list_Year = [i.split(\" \")[0][3:5] for i in  list(df['CALENDAR_DATE'])]\n",
    "\n",
    "df['Month'] = list_Month\n",
    "df['Date'] = list_Date\n",
    "df['Year'] = list_Year"
   ]
  },
  {
   "cell_type": "code",
   "execution_count": null,
   "id": "14144c89",
   "metadata": {
    "id": "14144c89"
   },
   "outputs": [],
   "source": [
    "df['ds'] = pd.DatetimeIndex(df['Year']+'-'+df['Month']+'-'+df['Date'])"
   ]
  },
  {
   "cell_type": "code",
   "execution_count": null,
   "id": "7ea7d35c",
   "metadata": {
    "id": "7ea7d35c"
   },
   "outputs": [],
   "source": [
    "df= df.rename(columns=str.lower)"
   ]
  },
  {
   "cell_type": "code",
   "execution_count": null,
   "id": "b87ee7b7",
   "metadata": {
    "id": "b87ee7b7"
   },
   "outputs": [],
   "source": [
    "df = df.drop_duplicates(inplace=False,keep='first')"
   ]
  },
  {
   "cell_type": "code",
   "execution_count": null,
   "id": "cb782827",
   "metadata": {
    "id": "cb782827"
   },
   "outputs": [],
   "source": [
    "df.reset_index(inplace=True,drop=True)"
   ]
  },
  {
   "cell_type": "code",
   "execution_count": null,
   "id": "5bf7ddb7",
   "metadata": {
    "id": "5bf7ddb7"
   },
   "outputs": [],
   "source": [
    "df = df.groupby(['ds','cust_id','jurisdiction'])['turnover'].sum()\n",
    "df = pd.DataFrame(df)\n",
    "df = df.rename_axis(['ds', 'cust_id', 'jurisdiction']).reset_index()"
   ]
  },
  {
   "cell_type": "code",
   "execution_count": null,
   "id": "b87e5764",
   "metadata": {
    "colab": {
     "base_uri": "https://localhost:8080/"
    },
    "id": "b87e5764",
    "outputId": "046e1b8c-096a-41e5-9c99-55df27d928b9"
   },
   "outputs": [],
   "source": [
    "df['ds'].agg(['min', 'max'])\n",
    "#334 days`"
   ]
  },
  {
   "cell_type": "code",
   "execution_count": null,
   "id": "57944972",
   "metadata": {
    "colab": {
     "base_uri": "https://localhost:8080/"
    },
    "id": "57944972",
    "outputId": "fad5b391-a31f-45f3-f1fd-a50f57d55907"
   },
   "outputs": [],
   "source": [
    "df.cust_id.nunique()"
   ]
  },
  {
   "cell_type": "code",
   "execution_count": null,
   "id": "d9beb8ad",
   "metadata": {
    "colab": {
     "base_uri": "https://localhost:8080/"
    },
    "id": "d9beb8ad",
    "outputId": "bd556e6e-b382-4473-a8c8-a044c4fb290b"
   },
   "outputs": [],
   "source": [
    "juris = list(set(df['jurisdiction']))\n",
    "juris"
   ]
  },
  {
   "cell_type": "code",
   "execution_count": null,
   "id": "1d0c3f46",
   "metadata": {
    "id": "1d0c3f46"
   },
   "outputs": [],
   "source": [
    "df1 = df[df['jurisdiction']=='DK'].reset_index(drop=True)\n",
    "df2 = df[df['jurisdiction']=='BE'].reset_index(drop=True)\n",
    "df3 = df[df['jurisdiction']=='MT'].reset_index(drop=True)\n",
    "df4 = df[df['jurisdiction']=='IE'].reset_index(drop=True)\n",
    "df5 = df[df['jurisdiction']=='DE'].reset_index(drop=True)\n",
    "df6 = df[df['jurisdiction']=='NT'].reset_index(drop=True)\n",
    "df7 = df[df['jurisdiction']=='SE'].reset_index(drop=True)\n",
    "df8 = df[df['jurisdiction']=='EE'].reset_index(drop=True)\n",
    "df9 = df[df['jurisdiction']=='RO'].reset_index(drop=True)\n",
    "df10 = df[df['jurisdiction']=='IT'].reset_index(drop=True)\n",
    "df11 = df[df['jurisdiction']=='UK'].reset_index(drop=True)\n"
   ]
  },
  {
   "cell_type": "code",
   "execution_count": null,
   "id": "a08f386f",
   "metadata": {
    "colab": {
     "base_uri": "https://localhost:8080/",
     "height": 424
    },
    "id": "a08f386f",
    "outputId": "3c56f87c-ded7-494a-fcff-2437da5c999e"
   },
   "outputs": [],
   "source": [
    "df"
   ]
  },
  {
   "cell_type": "code",
   "execution_count": null,
   "id": "344071ec",
   "metadata": {
    "colab": {
     "base_uri": "https://localhost:8080/"
    },
    "id": "344071ec",
    "outputId": "c9db550f-4a68-4347-b45e-3a47096b33c5"
   },
   "outputs": [],
   "source": [
    "df['turnover'].sum()"
   ]
  },
  {
   "cell_type": "code",
   "execution_count": null,
   "id": "a085b137",
   "metadata": {
    "colab": {
     "base_uri": "https://localhost:8080/",
     "height": 206
    },
    "id": "a085b137",
    "outputId": "908f8cc2-0ecd-43a9-8f1c-f2aab726fd89"
   },
   "outputs": [],
   "source": [
    "df1.head()"
   ]
  },
  {
   "cell_type": "code",
   "execution_count": null,
   "id": "e756d27b",
   "metadata": {
    "colab": {
     "base_uri": "https://localhost:8080/"
    },
    "id": "e756d27b",
    "outputId": "8503f6bf-1696-46c9-a55e-143b9d7ea3f6"
   },
   "outputs": [],
   "source": [
    "df1.shape"
   ]
  },
  {
   "cell_type": "code",
   "execution_count": null,
   "id": "a412fb9c",
   "metadata": {
    "colab": {
     "base_uri": "https://localhost:8080/"
    },
    "id": "a412fb9c",
    "outputId": "eee70143-e8da-4781-a636-3fd379fc147e"
   },
   "outputs": [],
   "source": [
    "df1.turnover.sum()"
   ]
  },
  {
   "cell_type": "code",
   "execution_count": null,
   "id": "8ffc0241",
   "metadata": {
    "colab": {
     "base_uri": "https://localhost:8080/"
    },
    "id": "8ffc0241",
    "outputId": "7567610c-2dcd-4a1f-e8c0-c5008f3c7176"
   },
   "outputs": [],
   "source": [
    "df1.cust_id.nunique()"
   ]
  },
  {
   "cell_type": "code",
   "execution_count": null,
   "id": "f99bb711",
   "metadata": {
    "colab": {
     "base_uri": "https://localhost:8080/"
    },
    "id": "f99bb711",
    "outputId": "f5c5af24-e9fb-4940-e24c-e259bb8987f5"
   },
   "outputs": [],
   "source": [
    "594*334"
   ]
  },
  {
   "cell_type": "code",
   "execution_count": null,
   "id": "9254919a",
   "metadata": {
    "id": "9254919a"
   },
   "outputs": [],
   "source": [
    "def addzeros(dataframe):\n",
    "    juris = dataframe['jurisdiction'][0]\n",
    "    my_dates = pd.date_range('2021-07-01', '2022-05-30', freq='D')\n",
    "    idx= pd.MultiIndex.from_product([my_dates, dataframe.cust_id.unique()],names=['ds', 'cust_id'])\n",
    "    dataframe = dataframe.set_index(['ds', 'cust_id']).reindex(idx).fillna(0).reset_index()\n",
    "    dataframe['jurisdiction'] = juris\n",
    "    return (dataframe)"
   ]
  },
  {
   "cell_type": "code",
   "execution_count": null,
   "id": "e24e7f39",
   "metadata": {
    "id": "e24e7f39"
   },
   "outputs": [],
   "source": [
    "df1 = addzeros(df1)\n",
    "df2 = addzeros(df2)\n",
    "df3 = addzeros(df3)\n",
    "df4 = addzeros(df4)\n",
    "df5 = addzeros(df5)\n",
    "df6 = addzeros(df6)\n",
    "df7 = addzeros(df7)\n",
    "df8 = addzeros(df8)\n",
    "df9 = addzeros(df9)\n",
    "df10 = addzeros(df10)\n",
    "df11 = addzeros(df11)"
   ]
  },
  {
   "cell_type": "code",
   "execution_count": null,
   "id": "c1797253",
   "metadata": {
    "id": "c1797253"
   },
   "outputs": [],
   "source": [
    "dataframe = pd.concat([df1, df2,df3,df4,df5,df6,df7,df8,df9,df10,df11], ignore_index=True)"
   ]
  },
  {
   "cell_type": "code",
   "execution_count": null,
   "id": "0eacdac1",
   "metadata": {
    "colab": {
     "base_uri": "https://localhost:8080/",
     "height": 424
    },
    "id": "0eacdac1",
    "outputId": "322d5fae-f46f-4ab4-82f0-9d2b401161d3"
   },
   "outputs": [],
   "source": [
    "dataframe"
   ]
  },
  {
   "cell_type": "code",
   "execution_count": null,
   "id": "f7885644",
   "metadata": {},
   "outputs": [],
   "source": [
    "dataframe.groupby('cust_id')['turnover'].sum().sort_values(ascending=False)"
   ]
  },
  {
   "cell_type": "code",
   "execution_count": null,
   "id": "9e27cb75",
   "metadata": {},
   "outputs": [],
   "source": [
    "#model implement check for two customers (to plot results in report)\n",
    "#5520\n",
    "customer = dataframe[dataframe[\"cust_id\"] == 5520].reset_index()\n",
    "#10081\n",
    "customer1 = dataframe[dataframe[\"cust_id\"] == 10081].reset_index()\n"
   ]
  },
  {
   "cell_type": "code",
   "execution_count": null,
   "id": "de0008bb",
   "metadata": {},
   "outputs": [],
   "source": [
    "sns.set_style('darkgrid')\n",
    "sns.set(rc={'figure.figsize':(8,4)})\n",
    "\n",
    "ax = sns.lineplot(data=customer, x ='ds', y = 'turnover',\n",
    "                  hue='cust_id', palette='viridis',\n",
    "                  legend='full',lw =3)\n",
    "\n",
    "plt.legend(bbox_to_anchor=(1, 1))\n",
    "plt.ylabel('TURNOVER')\n",
    "plt.xlabel('Year-Month')\n",
    "plt.show()"
   ]
  },
  {
   "cell_type": "code",
   "execution_count": null,
   "id": "a5baebd0",
   "metadata": {},
   "outputs": [],
   "source": [
    "from statsmodels.tsa.stattools import adfuller # dickey fuller implementation\n",
    "\n",
    "def dickey_fuller_metrics(time_series):\n",
    "    print('Dickey Fuller Results:')\n",
    "    dicker_fuller_test = adfuller(time_series, autolag='AIC') # perform the test\n",
    "    results_table = pd.Series(dicker_fuller_test[0:4], index=['Test Statistic','p-value','#Lags Used','Number of Observations Used']) # create a results table to print\n",
    "    for key,value in dicker_fuller_test[4].items():\n",
    "        results_table['Critical Value (%s)'%key] = value\n",
    "    print(results_table)\n",
    "\n",
    "dickey_fuller_metrics(customer['turnover'])"
   ]
  },
  {
   "cell_type": "code",
   "execution_count": null,
   "id": "c1d92749",
   "metadata": {},
   "outputs": [],
   "source": [
    "customer['square_root'] = np.sqrt(customer['turnover'])\n",
    "customer['square_root'] = customer['square_root'].dropna() # remove NaNs\n",
    "\n",
    "# Plot the square root transform\n",
    "fig, ax = plt.subplots();\n",
    "customer['square_root'].plot(ax=ax, figsize = (8,4), color=\"purple\" );\n",
    "plt.ylabel('turnover')\n",
    "plt.xlabel('square root transformation')\n",
    "plt.title('Square Root Transformation of customer 5520')"
   ]
  },
  {
   "cell_type": "code",
   "execution_count": null,
   "id": "521e4440",
   "metadata": {},
   "outputs": [],
   "source": [
    "from statsmodels.tsa.stattools import adfuller # dickey fuller implementation\n",
    "\n",
    "def dickey_fuller_metrics(time_series):\n",
    "    print('Dickey Fuller Results:')\n",
    "    dicker_fuller_test = adfuller(time_series, autolag='AIC') # perform the test\n",
    "    results_table = pd.Series(dicker_fuller_test[0:4], index=['Test Statistic','p-value','#Lags Used','Number of Observations Used']) # create a results table to print\n",
    "    for key,value in dicker_fuller_test[4].items():\n",
    "        results_table['Critical Value (%s)'%key] = value\n",
    "    print(results_table)\n",
    "\n",
    "dickey_fuller_metrics(customer['square_root'])"
   ]
  },
  {
   "cell_type": "code",
   "execution_count": null,
   "id": "d0f4f704",
   "metadata": {},
   "outputs": [],
   "source": [
    "customer.shape"
   ]
  },
  {
   "cell_type": "code",
   "execution_count": null,
   "id": "b4677034",
   "metadata": {},
   "outputs": [],
   "source": [
    "# data splitting - 80% train , 20% test\n",
    "#train = 268, test = 66\n",
    "\n",
    "forecast_train = customer['square_root'].values[:268]\n",
    "forecast_test = customer['square_root'].values[268:]\n",
    "\n",
    "# extract the times\n",
    "forecast_train_times = customer['square_root'].index[:268]\n",
    "forecast_test_times = customer['square_root'].index[268:]"
   ]
  },
  {
   "cell_type": "code",
   "execution_count": null,
   "id": "3ed5fd89",
   "metadata": {},
   "outputs": [],
   "source": [
    "import itertools\n",
    "#best value for arima \n",
    "\n",
    "p=d=q=range(0,5)\n",
    "pdq = list(itertools.product(p,d,q))\n",
    "\n",
    "history = forecast_train.tolist()\n",
    "AR_predictions = list()\n",
    "\n",
    "for param in pdq:\n",
    "    try:\n",
    "        model_arima = ARIMA(history , order = param)\n",
    "        model_arima_fit = model_arima.fit()\n",
    "        print(param, model_arima_fit.aic)\n",
    "        \n",
    "    except:\n",
    "        continue\n",
    "        \n",
    "#2,1,3 ; 3,1,4; 2,1,4\n",
    "#3,0,3"
   ]
  },
  {
   "cell_type": "code",
   "execution_count": null,
   "id": "ad188d3b",
   "metadata": {},
   "outputs": [],
   "source": [
    "##ARIMA\n",
    "\n",
    "from statsmodels.tsa.arima.model import ARIMA \n",
    "import warnings\n",
    "warnings.filterwarnings('ignore') # sometimes a convergence warning may appear, which is best to ignore to allow the notebook to look neater\n",
    "\n",
    "\n",
    "\n",
    "history = forecast_train.tolist()\n",
    "AR_predictions = list()\n",
    "\n",
    "    # walk-forward validation\n",
    "for t in tqdm(range(len(forecast_test))):\n",
    "        AR_model = ARIMA(history, order=(3,0,3))\n",
    "        AR_model_fit = AR_model.fit()\n",
    "        output = AR_model_fit.forecast()\n",
    "        yhat = output[0]\n",
    "        AR_predictions.append(yhat)\n",
    "        obs = forecast_test[t]\n",
    "        history.append(obs)# timing how long it takes for the model to run using tqdm\n",
    "        "
   ]
  },
  {
   "cell_type": "code",
   "execution_count": null,
   "id": "6891c21b",
   "metadata": {
    "scrolled": true
   },
   "outputs": [],
   "source": [
    "from pandas.plotting import register_matplotlib_converters\n",
    "register_matplotlib_converters()\n",
    "\n",
    "# Plot the results\n",
    "plt.figure(figsize=(10,7), dpi=100)\n",
    "plt.plot(forecast_train_times, forecast_train, label='Training Data')\n",
    "plt.plot(forecast_test_times, forecast_test.flatten(), label='Actual Value')\n",
    "plt.plot(forecast_train_times, AR_model_fit.fittedvalues[:268], label='Fitted')\n",
    "plt.plot(forecast_test_times, AR_predictions, label='Forecasted')\n",
    "#plt.title('AR Model RSS: %.4f' %sum((AR_model_fit.fittedvalues[:268] - forecast_train.ravel())**2))\n",
    "plt.title('ARIMA model (3,0,3) for customer id - 1 ')\n",
    "plt.legend(loc='upper left', fontsize=8)"
   ]
  },
  {
   "cell_type": "code",
   "execution_count": null,
   "id": "835a6c3d",
   "metadata": {},
   "outputs": [],
   "source": [
    "mse= (sum((AR_model_fit.fittedvalues[:268] - forecast_train.ravel())**2))/66"
   ]
  },
  {
   "cell_type": "code",
   "execution_count": null,
   "id": "a36eef6e",
   "metadata": {},
   "outputs": [],
   "source": [
    "#mse"
   ]
  },
  {
   "cell_type": "code",
   "execution_count": null,
   "id": "9de47742",
   "metadata": {},
   "outputs": [],
   "source": [
    "##customer 1"
   ]
  },
  {
   "cell_type": "code",
   "execution_count": null,
   "id": "b84dc93b",
   "metadata": {},
   "outputs": [],
   "source": [
    "sns.set_style('darkgrid')\n",
    "sns.set(rc={'figure.figsize':(8,4)})\n",
    "\n",
    "ax = sns.lineplot(data=customer1, x ='ds', y = 'turnover',\n",
    "                  hue='cust_id', palette='viridis',\n",
    "                  legend='full',lw =3)\n",
    "\n",
    "plt.legend(bbox_to_anchor=(1, 1))\n",
    "plt.ylabel('TURNOVER')\n",
    "plt.xlabel('Year-Month')\n",
    "plt.show()"
   ]
  },
  {
   "cell_type": "code",
   "execution_count": null,
   "id": "74a453a9",
   "metadata": {},
   "outputs": [],
   "source": [
    "customer1['square_root'] = np.sqrt(customer1['turnover'])\n",
    "customer1['square_root'] = customer1['square_root'].dropna() # remove NaNs\n",
    "\n",
    "# Plot the square root transform\n",
    "fig, ax = plt.subplots();\n",
    "customer1['square_root'].plot(ax=ax, figsize = (8,4), color=\"purple\" );\n",
    "plt.ylabel('turnover')\n",
    "plt.xlabel('square root transformation')\n",
    "plt.title('Square Root Transformation of customer 10081')"
   ]
  },
  {
   "cell_type": "code",
   "execution_count": null,
   "id": "1f2b2aaf",
   "metadata": {},
   "outputs": [],
   "source": [
    "from statsmodels.tsa.stattools import adfuller # dickey fuller implementation\n",
    "\n",
    "def dickey_fuller_metrics(time_series):\n",
    "    print('Dickey Fuller Results:')\n",
    "    dicker_fuller_test = adfuller(time_series, autolag='AIC') # perform the test\n",
    "    results_table = pd.Series(dicker_fuller_test[0:4], index=['Test Statistic','p-value','#Lags Used','Number of Observations Used']) # create a results table to print\n",
    "    for key,value in dicker_fuller_test[4].items():\n",
    "        results_table['Critical Value (%s)'%key] = value\n",
    "    print(results_table)\n",
    "\n",
    "dickey_fuller_metrics(customer1['square_root'])"
   ]
  },
  {
   "cell_type": "code",
   "execution_count": null,
   "id": "4aa986be",
   "metadata": {},
   "outputs": [],
   "source": [
    "customer.shape"
   ]
  },
  {
   "cell_type": "code",
   "execution_count": null,
   "id": "8652efb1",
   "metadata": {},
   "outputs": [],
   "source": [
    "# data splitting - 80% train , 20% test\n",
    "#train = 268, test = 66\n",
    "\n",
    "forecast_train = customer1['square_root'].values[:268]\n",
    "forecast_test = customer1['square_root'].values[268:]\n",
    "\n",
    "# extract the times\n",
    "forecast_train_times = customer1['square_root'].index[:268]\n",
    "forecast_test_times = customer1['square_root'].index[268:]"
   ]
  },
  {
   "cell_type": "code",
   "execution_count": null,
   "id": "1feb6bb2",
   "metadata": {},
   "outputs": [],
   "source": [
    "##ARIMA\n",
    "\n",
    "from statsmodels.tsa.arima.model import ARIMA \n",
    "import warnings\n",
    "warnings.filterwarnings('ignore') # sometimes a convergence warning may appear, which is best to ignore to allow the notebook to look neater\n",
    "\n",
    "\n",
    "\n",
    "history = forecast_train.tolist()\n",
    "AR_predictions = list()\n",
    "\n",
    "    # walk-forward validation\n",
    "for t in tqdm(range(len(forecast_test))):\n",
    "        AR_model = ARIMA(history, order=(3,0,3))\n",
    "        AR_model_fit = AR_model.fit()\n",
    "        output = AR_model_fit.forecast()\n",
    "        yhat = output[0]\n",
    "        AR_predictions.append(yhat)\n",
    "        obs = forecast_test[t]\n",
    "        history.append(obs)# timing how long it takes for the model to run using tqdm\n",
    "        "
   ]
  },
  {
   "cell_type": "code",
   "execution_count": null,
   "id": "19f4a660",
   "metadata": {
    "scrolled": true
   },
   "outputs": [],
   "source": [
    "## 7 0 0 - 587\n",
    "##200 587\n",
    "\n",
    "\n",
    "from pandas.plotting import register_matplotlib_converters\n",
    "register_matplotlib_converters()\n",
    "\n",
    "# Plot the results\n",
    "plt.figure(figsize=(10,7), dpi=100)\n",
    "plt.plot(forecast_train_times, forecast_train, label='Training Data')\n",
    "plt.plot(forecast_test_times, forecast_test.flatten(), label='Actual Value')\n",
    "plt.plot(forecast_train_times, AR_model_fit.fittedvalues[:268], label='Fitted')\n",
    "plt.plot(forecast_test_times, AR_predictions, label='Forecasted')\n",
    "#plt.title('AR Model RSS: %.4f' %sum((AR_model_fit.fittedvalues[:268] - forecast_train.ravel())**2))\n",
    "plt.title('ARIMA (3,0,3) for customer id - 2')\n",
    "plt.legend(loc='upper left', fontsize=8)"
   ]
  },
  {
   "cell_type": "code",
   "execution_count": null,
   "id": "a6e73f77",
   "metadata": {},
   "outputs": [],
   "source": [
    "mse= (sum((AR_model_fit.fittedvalues[:268] - forecast_train.ravel())**2))/66"
   ]
  },
  {
   "cell_type": "code",
   "execution_count": null,
   "id": "206f3707",
   "metadata": {},
   "outputs": [],
   "source": []
  },
  {
   "cell_type": "code",
   "execution_count": null,
   "id": "750bf03b",
   "metadata": {},
   "outputs": [],
   "source": [
    "## for all customers in df4- done for each jurisdiction\n",
    "##could be extended for every juridiction\n",
    "\n",
    "cust = df4.cust_id.unique()\n",
    "\n",
    "mselist = []\n",
    "\n",
    "for c in cust:\n",
    "    \n",
    "    customer = df4[df4[\"cust_id\"] == c].reset_index()\n",
    "    customer['square_root'] = np.sqrt(customer['turnover'])\n",
    "    customer['square_root'] = customer['square_root'].dropna()\n",
    "    \n",
    "    forecast_train = customer['square_root'].values[:268]\n",
    "    forecast_test = customer['square_root'].values[268:]\n",
    "\n",
    "    # extract the times\n",
    "    forecast_train_times = customer['square_root'].index[:268]\n",
    "    forecast_test_times = customer['square_root'].index[268:]\n",
    "    \n",
    "    history = forecast_train.tolist()\n",
    "    AR_predictions = list()\n",
    "\n",
    "    # walk-forward validation\n",
    "    for t in tqdm(range(len(forecast_test))):\n",
    "            AR_model = ARIMA(history, order=(2,1,4))\n",
    "            AR_model_fit = AR_model.fit()\n",
    "            output = AR_model_fit.forecast()\n",
    "            yhat = output[0]\n",
    "            AR_predictions.append(yhat)\n",
    "            obs = forecast_test[t]\n",
    "            history.append(obs)\n",
    "            \n",
    "    m = (sum((AR_model_fit.fittedvalues[:268] - forecast_train.ravel())**2))/66\n",
    "    mselist.append(m)\n",
    "    \n",
    "\n",
    "    "
   ]
  },
  {
   "cell_type": "code",
   "execution_count": null,
   "id": "602dbfe8",
   "metadata": {},
   "outputs": [],
   "source": []
  },
  {
   "cell_type": "code",
   "execution_count": null,
   "id": "0ac9507f",
   "metadata": {},
   "outputs": [],
   "source": [
    "# import statistics\n",
    "# statistics.mean(mselist)"
   ]
  },
  {
   "cell_type": "code",
   "execution_count": null,
   "id": "110888fc",
   "metadata": {},
   "outputs": [],
   "source": []
  }
 ],
 "metadata": {
  "kernelspec": {
   "display_name": "Python 3",
   "language": "python",
   "name": "python3"
  },
  "language_info": {
   "codemirror_mode": {
    "name": "ipython",
    "version": 3
   },
   "file_extension": ".py",
   "mimetype": "text/x-python",
   "name": "python",
   "nbconvert_exporter": "python",
   "pygments_lexer": "ipython3",
   "version": "3.8.8"
  }
 },
 "nbformat": 4,
 "nbformat_minor": 5
}
