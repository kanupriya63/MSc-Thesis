{
 "cells": [
  {
   "cell_type": "code",
   "execution_count": null,
   "id": "c2b8f31c",
   "metadata": {},
   "outputs": [],
   "source": [
    "import numpy as np\n",
    "import pandas as pd\n",
    "import matplotlib.pyplot as plt\n",
    "import seaborn as sns\n",
    "import matplotlib.ticker as ticker\n",
    "import numpy as np \n",
    "import scipy\n",
    "import pandas as pd\n",
    "from matplotlib import pyplot as plt \n",
    "import seaborn as sns\n",
    "import os # imports for loading data\n",
    "from tqdm import tqdm"
   ]
  },
  {
   "cell_type": "code",
   "execution_count": null,
   "id": "886128d2",
   "metadata": {},
   "outputs": [],
   "source": [
    "from prophet import Prophet\n",
    "from prophet.plot import plot_plotly\n",
    "import matplotlib.pyplot as plt\n",
    "import plotly.offline as py\n",
    "py.init_notebook_mode()\n",
    "%matplotlib inline\n",
    "from neuralprophet import NeuralProphet"
   ]
  },
  {
   "cell_type": "code",
   "execution_count": null,
   "id": "3f8a3005",
   "metadata": {},
   "outputs": [],
   "source": [
    "# Importing the signal in\n",
    "df = pd.read_csv(os.path.abspath('turn_over.csv'), index_col=False) \n",
    "print(f\"Successfully read in {df.size} values.\")\n",
    "\n",
    "print(\"First 5 values:\")\n",
    "df.head(5)"
   ]
  },
  {
   "cell_type": "code",
   "execution_count": null,
   "id": "02b21be8",
   "metadata": {
    "id": "02b21be8"
   },
   "outputs": [],
   "source": [
    "list_Month = [i.split(\" \")[0][0:2] for i in  list(df['CALENDAR_DATE'])]\n",
    "list_Date = [i.split(\" \")[0][6:8] for i in  list(df['CALENDAR_DATE'])]\n",
    "list_Year = [i.split(\" \")[0][3:5] for i in  list(df['CALENDAR_DATE'])]\n",
    "\n",
    "df['Month'] = list_Month\n",
    "df['Date'] = list_Date\n",
    "df['Year'] = list_Year"
   ]
  },
  {
   "cell_type": "code",
   "execution_count": null,
   "id": "14144c89",
   "metadata": {
    "id": "14144c89"
   },
   "outputs": [],
   "source": [
    "df['ds'] = pd.DatetimeIndex(df['Year']+'-'+df['Month']+'-'+df['Date'])"
   ]
  },
  {
   "cell_type": "code",
   "execution_count": null,
   "id": "7ea7d35c",
   "metadata": {
    "id": "7ea7d35c"
   },
   "outputs": [],
   "source": [
    "df= df.rename(columns=str.lower)"
   ]
  },
  {
   "cell_type": "code",
   "execution_count": null,
   "id": "b87ee7b7",
   "metadata": {
    "id": "b87ee7b7"
   },
   "outputs": [],
   "source": [
    "df = df.drop_duplicates(inplace=False,keep='first')"
   ]
  },
  {
   "cell_type": "code",
   "execution_count": null,
   "id": "cb782827",
   "metadata": {
    "id": "cb782827"
   },
   "outputs": [],
   "source": [
    "df.reset_index(inplace=True,drop=True)"
   ]
  },
  {
   "cell_type": "code",
   "execution_count": null,
   "id": "5bf7ddb7",
   "metadata": {
    "id": "5bf7ddb7"
   },
   "outputs": [],
   "source": [
    "df = df.groupby(['ds','cust_id','jurisdiction'])['turnover'].sum()\n",
    "df = pd.DataFrame(df)\n",
    "df = df.rename_axis(['ds', 'cust_id', 'jurisdiction']).reset_index()"
   ]
  },
  {
   "cell_type": "code",
   "execution_count": null,
   "id": "b87e5764",
   "metadata": {
    "colab": {
     "base_uri": "https://localhost:8080/"
    },
    "id": "b87e5764",
    "outputId": "046e1b8c-096a-41e5-9c99-55df27d928b9"
   },
   "outputs": [],
   "source": [
    "df['ds'].agg(['min', 'max'])\n",
    "#334 days`"
   ]
  },
  {
   "cell_type": "code",
   "execution_count": null,
   "id": "57944972",
   "metadata": {
    "colab": {
     "base_uri": "https://localhost:8080/"
    },
    "id": "57944972",
    "outputId": "fad5b391-a31f-45f3-f1fd-a50f57d55907"
   },
   "outputs": [],
   "source": [
    "df.cust_id.nunique()"
   ]
  },
  {
   "cell_type": "code",
   "execution_count": null,
   "id": "d9beb8ad",
   "metadata": {
    "colab": {
     "base_uri": "https://localhost:8080/"
    },
    "id": "d9beb8ad",
    "outputId": "bd556e6e-b382-4473-a8c8-a044c4fb290b"
   },
   "outputs": [],
   "source": [
    "juris = list(set(df['jurisdiction']))\n",
    "juris"
   ]
  },
  {
   "cell_type": "code",
   "execution_count": null,
   "id": "1d0c3f46",
   "metadata": {
    "id": "1d0c3f46"
   },
   "outputs": [],
   "source": [
    "df1 = df[df['jurisdiction']=='DK'].reset_index(drop=True)\n",
    "df2 = df[df['jurisdiction']=='BE'].reset_index(drop=True)\n",
    "df3 = df[df['jurisdiction']=='MT'].reset_index(drop=True)\n",
    "df4 = df[df['jurisdiction']=='IE'].reset_index(drop=True)\n",
    "df5 = df[df['jurisdiction']=='DE'].reset_index(drop=True)\n",
    "df6 = df[df['jurisdiction']=='NT'].reset_index(drop=True)\n",
    "df7 = df[df['jurisdiction']=='SE'].reset_index(drop=True)\n",
    "df8 = df[df['jurisdiction']=='EE'].reset_index(drop=True)\n",
    "df9 = df[df['jurisdiction']=='RO'].reset_index(drop=True)\n",
    "df10 = df[df['jurisdiction']=='IT'].reset_index(drop=True)\n",
    "df11 = df[df['jurisdiction']=='UK'].reset_index(drop=True)\n"
   ]
  },
  {
   "cell_type": "code",
   "execution_count": null,
   "id": "a08f386f",
   "metadata": {
    "colab": {
     "base_uri": "https://localhost:8080/",
     "height": 424
    },
    "id": "a08f386f",
    "outputId": "3c56f87c-ded7-494a-fcff-2437da5c999e"
   },
   "outputs": [],
   "source": [
    "df"
   ]
  },
  {
   "cell_type": "code",
   "execution_count": null,
   "id": "344071ec",
   "metadata": {
    "colab": {
     "base_uri": "https://localhost:8080/"
    },
    "id": "344071ec",
    "outputId": "c9db550f-4a68-4347-b45e-3a47096b33c5"
   },
   "outputs": [],
   "source": [
    "df['turnover'].sum()"
   ]
  },
  {
   "cell_type": "code",
   "execution_count": null,
   "id": "a085b137",
   "metadata": {
    "colab": {
     "base_uri": "https://localhost:8080/",
     "height": 206
    },
    "id": "a085b137",
    "outputId": "908f8cc2-0ecd-43a9-8f1c-f2aab726fd89"
   },
   "outputs": [],
   "source": [
    "df1.head()"
   ]
  },
  {
   "cell_type": "code",
   "execution_count": null,
   "id": "e756d27b",
   "metadata": {
    "colab": {
     "base_uri": "https://localhost:8080/"
    },
    "id": "e756d27b",
    "outputId": "8503f6bf-1696-46c9-a55e-143b9d7ea3f6"
   },
   "outputs": [],
   "source": [
    "df1.shape"
   ]
  },
  {
   "cell_type": "code",
   "execution_count": null,
   "id": "a412fb9c",
   "metadata": {
    "colab": {
     "base_uri": "https://localhost:8080/"
    },
    "id": "a412fb9c",
    "outputId": "eee70143-e8da-4781-a636-3fd379fc147e"
   },
   "outputs": [],
   "source": [
    "df1.turnover.sum()"
   ]
  },
  {
   "cell_type": "code",
   "execution_count": null,
   "id": "8ffc0241",
   "metadata": {
    "colab": {
     "base_uri": "https://localhost:8080/"
    },
    "id": "8ffc0241",
    "outputId": "7567610c-2dcd-4a1f-e8c0-c5008f3c7176"
   },
   "outputs": [],
   "source": [
    "df1.cust_id.nunique()"
   ]
  },
  {
   "cell_type": "code",
   "execution_count": null,
   "id": "f99bb711",
   "metadata": {
    "colab": {
     "base_uri": "https://localhost:8080/"
    },
    "id": "f99bb711",
    "outputId": "f5c5af24-e9fb-4940-e24c-e259bb8987f5"
   },
   "outputs": [],
   "source": [
    "594*334"
   ]
  },
  {
   "cell_type": "code",
   "execution_count": null,
   "id": "9254919a",
   "metadata": {
    "id": "9254919a"
   },
   "outputs": [],
   "source": [
    "def addzeros(dataframe):\n",
    "    juris = dataframe['jurisdiction'][0]\n",
    "    my_dates = pd.date_range('2021-07-01', '2022-05-30', freq='D')\n",
    "    idx= pd.MultiIndex.from_product([my_dates, dataframe.cust_id.unique()],names=['ds', 'cust_id'])\n",
    "    dataframe = dataframe.set_index(['ds', 'cust_id']).reindex(idx).fillna(0).reset_index()\n",
    "    dataframe['jurisdiction'] = juris\n",
    "    return (dataframe)"
   ]
  },
  {
   "cell_type": "code",
   "execution_count": null,
   "id": "e24e7f39",
   "metadata": {
    "id": "e24e7f39"
   },
   "outputs": [],
   "source": [
    "df1 = addzeros(df1)\n",
    "df2 = addzeros(df2)\n",
    "df3 = addzeros(df3)\n",
    "df4 = addzeros(df4)\n",
    "df5 = addzeros(df5)\n",
    "df6 = addzeros(df6)\n",
    "df7 = addzeros(df7)\n",
    "df8 = addzeros(df8)\n",
    "df9 = addzeros(df9)\n",
    "df10 = addzeros(df10)\n",
    "df11 = addzeros(df11)"
   ]
  },
  {
   "cell_type": "code",
   "execution_count": null,
   "id": "c1797253",
   "metadata": {
    "id": "c1797253"
   },
   "outputs": [],
   "source": [
    "dataframe = pd.concat([df1, df2,df3,df4,df5,df6,df7,df8,df9,df10,df11], ignore_index=True)"
   ]
  },
  {
   "cell_type": "code",
   "execution_count": null,
   "id": "0eacdac1",
   "metadata": {
    "colab": {
     "base_uri": "https://localhost:8080/",
     "height": 424
    },
    "id": "0eacdac1",
    "outputId": "322d5fae-f46f-4ab4-82f0-9d2b401161d3"
   },
   "outputs": [],
   "source": [
    "dataframe"
   ]
  },
  {
   "cell_type": "code",
   "execution_count": null,
   "id": "cee68b58",
   "metadata": {},
   "outputs": [],
   "source": [
    "dataframe.groupby('cust_id')['turnover'].sum().sort_values(ascending=False)"
   ]
  },
  {
   "cell_type": "markdown",
   "id": "3f1417db",
   "metadata": {},
   "source": [
    "# Prophet"
   ]
  },
  {
   "cell_type": "code",
   "execution_count": null,
   "id": "85024ad9",
   "metadata": {},
   "outputs": [],
   "source": [
    "#implementing it here for 2 customers to report the values in the thesis\n",
    "#5520\n",
    "customer = dataframe[dataframe[\"cust_id\"] == 5520].reset_index()\n",
    "#10081\n",
    "#customer = dataframe[dataframe[\"cust_id\"] == 10081].reset_index()\n"
   ]
  },
  {
   "cell_type": "code",
   "execution_count": null,
   "id": "6e5674f9",
   "metadata": {},
   "outputs": [],
   "source": [
    "customer = customer.drop(['index','cust_id','jurisdiction'],axis=1)"
   ]
  },
  {
   "cell_type": "code",
   "execution_count": null,
   "id": "83ff0fe9",
   "metadata": {},
   "outputs": [],
   "source": [
    "customer.head()"
   ]
  },
  {
   "cell_type": "code",
   "execution_count": null,
   "id": "9cf1ac82",
   "metadata": {},
   "outputs": [],
   "source": [
    "#customer = customer.drop(['index','cust_id','jurisdiction'],axis=1)\n",
    "\n",
    "customer['square_root'] = np.sqrt(customer['turnover'])\n",
    "customer['square_root'] = customer['square_root'].dropna()\n",
    "\n",
    "forecast_train = customer['square_root'].values[:268]\n",
    "forecast_test = customer['square_root'].values[268:]\n",
    "\n",
    "# extract the times\n",
    "forecast_train_times = customer['square_root'].index[:268]\n",
    "forecast_test_times = customer['square_root'].index[268:]\n"
   ]
  },
  {
   "cell_type": "code",
   "execution_count": null,
   "id": "6a28e5cb",
   "metadata": {},
   "outputs": [],
   "source": [
    "k = customer.drop(['turnover'],axis = 1)\n",
    "\n",
    "df_train = k[:268]\n",
    "df_test = k[268:]\n",
    "\n",
    "from statsmodels.tsa.seasonal import seasonal_decompose\n",
    "\n",
    "decomposition_obj = seasonal_decompose(\n",
    "    x=df_train.set_index('ds'), \n",
    "    model='additive')"
   ]
  },
  {
   "cell_type": "code",
   "execution_count": null,
   "id": "b5282e29",
   "metadata": {},
   "outputs": [],
   "source": [
    "fig, ax = plt.subplots(4, 1, figsize=(12, 12))\n",
    "\n",
    "# Observed time series.\n",
    "decomposition_obj.observed.plot(ax=ax[0])\n",
    "ax[0].set(title='observed')\n",
    "\n",
    "\n",
    "# Trend component. \n",
    "decomposition_obj.trend.plot(label='fit', ax=ax[1])\n",
    "#df[mask][['ds', 'trend']].set_index('ds').plot(c=sns_c[1], ax=ax[1])\n",
    "ax[1].legend(loc='lower right')\n",
    "ax[1].set(title='trend')\n",
    "\n",
    "# Seasonal component. \n",
    "decomposition_obj.seasonal.plot(label='fit', ax=ax[2])\n",
    "# df.assign(seasonal = lambda x: x['yearly_seas'] + x['monthly_seas'] + x['end_of_year']) \\\n",
    "#     [mask][['ds', 'seasonal']] \\\n",
    "#     .set_index('ds')\\\n",
    "#     .plot(c=sns_c[2], ax=ax[2])\n",
    "ax[2].legend(loc='lower right')\n",
    "ax[2].set(title='seasonal')\n",
    "\n",
    "# Residual.\n",
    "decomposition_obj.resid.plot(label='fit', ax=ax[3])\n",
    "#df[mask][['ds', 'noise']].set_index('ds').plot(c=sns_c[3], ax=ax[3])\n",
    "ax[3].legend(loc='lower right')\n",
    "ax[3].set(title='residual')\n",
    "\n",
    "fig.suptitle('Time Series Decomposition', y=1.01)\n",
    "plt.tight_layout()"
   ]
  },
  {
   "cell_type": "code",
   "execution_count": null,
   "id": "0eb11bb7",
   "metadata": {},
   "outputs": [],
   "source": [
    "customer.shape"
   ]
  },
  {
   "cell_type": "code",
   "execution_count": null,
   "id": "a8237991",
   "metadata": {},
   "outputs": [],
   "source": [
    "    c = customer.drop(['square_root'], axis=1)\n",
    "    c.columns = ['ds', 'y']\n",
    "    \n",
    "    threshold_date = pd.to_datetime('2022-04-01')\n",
    "    mask = c['ds'] < threshold_date\n",
    "    # Split the data and select `ds` and `y` columns.\n",
    "    df_train = c[mask][['ds', 'y']]\n",
    "    df_test = c[~ mask][['ds', 'y']]\n",
    "    \n",
    "    \n",
    "    m = Prophet(interval_width=0.95,daily_seasonality=True , seasonality_mode = 'multiplicative'\n",
    "                ,weekly_seasonality = True, mcmc_samples = 100)\n",
    "    m.add_seasonality(name='monthly', period=30.5, fourier_order=5)\n",
    "    \n",
    "    \n",
    "    model = m.fit(df_train)\n",
    "    future = m.make_future_dataframe(periods=30,freq='D')\n",
    "    forecast = m.predict(future)"
   ]
  },
  {
   "cell_type": "code",
   "execution_count": null,
   "id": "f577326a",
   "metadata": {},
   "outputs": [],
   "source": [
    "mask2 = forecast['ds'] < threshold_date\n",
    "\n",
    "forecast_train = forecast[mask2]\n",
    "forecast_test = forecast[~ mask2]"
   ]
  },
  {
   "cell_type": "code",
   "execution_count": null,
   "id": "2cd3fd9d",
   "metadata": {},
   "outputs": [],
   "source": [
    "from sklearn.metrics import mean_squared_error\n",
    "mean_squared_error(y_true=df_train['y'], y_pred=forecast_train['yhat'],squared = False)\n"
   ]
  },
  {
   "cell_type": "code",
   "execution_count": null,
   "id": "31f9b379",
   "metadata": {},
   "outputs": [],
   "source": [
    "import seaborn as sns\n",
    "sns.set_style('darkgrid', {'axes.facecolor': '.9'})\n",
    "sns.set_palette(palette='deep')\n",
    "sns_c = sns.color_palette(palette='deep')\n",
    "%matplotlib inline\n",
    "\n",
    "from pandas.plotting import register_matplotlib_converters\n",
    "register_matplotlib_converters()"
   ]
  },
  {
   "cell_type": "code",
   "execution_count": null,
   "id": "1063cc6e",
   "metadata": {},
   "outputs": [],
   "source": [
    "fig, ax = plt.subplots()\n",
    "sns.set(rc={'figure.figsize':(20,8.27)})\n",
    "ax.fill_between(\n",
    "    x=forecast['ds'],\n",
    "    y1=forecast['yhat_lower'],\n",
    "    y2=forecast['yhat_upper'],\n",
    "    color=sns_c[2], \n",
    "    alpha=0.25,\n",
    "    label=r'0.95 credible_interval'\n",
    ")\n",
    "\n",
    "sns.lineplot(x='ds', y='y', label='y_train', data=df_train, ax=ax)\n",
    "sns.lineplot(x='ds', y='y', label='y_test', data=df_test, ax=ax)\n",
    "sns.lineplot(x='ds', y='yhat', label='y_hat', data=forecast, ax=ax)\n",
    "ax.axvline(threshold_date, color=sns_c[3], linestyle='--', label='train test split')\n",
    "ax.legend(loc='upper left')\n",
    "ax.set(title='Dependent Variable', ylabel='');"
   ]
  },
  {
   "cell_type": "code",
   "execution_count": null,
   "id": "f91d4b18",
   "metadata": {},
   "outputs": [],
   "source": [
    "#ZOOM\n",
    "\n",
    "fig, ax = plt.subplots()\n",
    "\n",
    "ax.fill_between(\n",
    "    x=forecast_test['ds'],\n",
    "    y1=forecast_test['yhat_lower'],\n",
    "    y2=forecast_test['yhat_upper'],\n",
    "    color=sns_c[2], \n",
    "    alpha=0.25,\n",
    "    label=r'0.95 credible_interval'\n",
    ")\n",
    "\n",
    "sns.lineplot(x='ds', y='y', label='y_test', data=df_test, ax=ax)\n",
    "sns.lineplot(x='ds', y='yhat', label='y_hat', data=forecast_test, ax=ax)\n",
    "ax.legend(loc='lower right')\n",
    "ax.set(title='Dependent Variable', ylabel='');"
   ]
  },
  {
   "cell_type": "code",
   "execution_count": null,
   "id": "9de3f00e",
   "metadata": {},
   "outputs": [],
   "source": []
  },
  {
   "cell_type": "code",
   "execution_count": null,
   "id": "2be1d228",
   "metadata": {
    "scrolled": true
   },
   "outputs": [],
   "source": [
    "m.plot(forecast)"
   ]
  },
  {
   "cell_type": "code",
   "execution_count": null,
   "id": "0d95a1df",
   "metadata": {},
   "outputs": [],
   "source": [
    "m.plot_components(forecast)"
   ]
  },
  {
   "cell_type": "code",
   "execution_count": null,
   "id": "fe59cd25",
   "metadata": {},
   "outputs": [],
   "source": []
  },
  {
   "cell_type": "code",
   "execution_count": null,
   "id": "889b9456",
   "metadata": {},
   "outputs": [],
   "source": []
  },
  {
   "cell_type": "code",
   "execution_count": null,
   "id": "ed969186",
   "metadata": {},
   "outputs": [],
   "source": []
  },
  {
   "cell_type": "markdown",
   "id": "e99f84a1",
   "metadata": {},
   "source": [
    "# implementing the model without completing the dataset"
   ]
  },
  {
   "cell_type": "code",
   "execution_count": null,
   "id": "2fbdc140",
   "metadata": {},
   "outputs": [],
   "source": [
    "customer = df[df[\"cust_id\"] == 5520].reset_index()"
   ]
  },
  {
   "cell_type": "code",
   "execution_count": null,
   "id": "07fbbad9",
   "metadata": {},
   "outputs": [],
   "source": [
    "    #c = customer.drop(['index','cust_id','jurisdiction'] ,axis=1)\n",
    "    c.columns = ['ds', 'y']\n",
    "    \n",
    "    threshold_date = pd.to_datetime('2022-03-31')\n",
    "    mask = c['ds'] < threshold_date\n",
    "    # Split the data and select `ds` and `y` columns.\n",
    "    df_train = c[mask][['ds', 'y']]\n",
    "    df_test = c[~ mask][['ds', 'y']]\n",
    "    \n",
    "    \n",
    "    m = Prophet(interval_width=0.95,daily_seasonality=True , seasonality_mode = 'multiplicative'\n",
    "                ,weekly_seasonality = True, mcmc_samples = 100)\n",
    "    m.add_seasonality(name='monthly', period=30.5, fourier_order=5)\n",
    "    \n",
    "    \n",
    "    model = m.fit(c)\n",
    "    future = m.make_future_dataframe(periods=30,freq='D')\n",
    "    forecast = m.predict(future)\n",
    "    \n",
    "    mask2 = forecast['ds'] < threshold_date\n",
    "\n",
    "    forecast_train = forecast[mask2]\n",
    "    forecast_test = forecast[~ mask2]"
   ]
  },
  {
   "cell_type": "code",
   "execution_count": null,
   "id": "a0875315",
   "metadata": {},
   "outputs": [],
   "source": [
    "from sklearn.metrics import mean_squared_error\n",
    "mean_squared_error(y_true=df_train['y'], y_pred=forecast_train['yhat'],squared = False)\n",
    "\n"
   ]
  },
  {
   "cell_type": "code",
   "execution_count": null,
   "id": "f3e237f3",
   "metadata": {},
   "outputs": [],
   "source": [
    "import seaborn as sns\n",
    "sns.set_style('darkgrid', {'axes.facecolor': '.9'})\n",
    "sns.set_palette(palette='deep')\n",
    "sns_c = sns.color_palette(palette='deep')\n",
    "%matplotlib inline\n",
    "\n",
    "from pandas.plotting import register_matplotlib_converters\n",
    "register_matplotlib_converters()"
   ]
  },
  {
   "cell_type": "code",
   "execution_count": null,
   "id": "b2a85ca8",
   "metadata": {},
   "outputs": [],
   "source": [
    "fig, ax = plt.subplots()\n",
    "\n",
    "ax.fill_between(\n",
    "    x=forecast['ds'],\n",
    "    y1=forecast['yhat_lower'],\n",
    "    y2=forecast['yhat_upper'],\n",
    "    color=sns_c[2], \n",
    "    alpha=0.25,\n",
    "    label=r'0.95 credible_interval'\n",
    ")\n",
    "\n",
    "sns.lineplot(x='ds', y='y', label='y_train', data=df_train, ax=ax)\n",
    "sns.lineplot(x='ds', y='y', label='y_test', data=df_test, ax=ax)\n",
    "sns.lineplot(x='ds', y='yhat', label='y_hat', data=forecast, ax=ax)\n",
    "ax.axvline(threshold_date, color=sns_c[3], linestyle='--', label='train test split')\n",
    "ax.legend(loc='upper left')\n",
    "ax.set(title='Dependent Variable', ylabel='');"
   ]
  },
  {
   "cell_type": "code",
   "execution_count": null,
   "id": "3cbeba2d",
   "metadata": {},
   "outputs": [],
   "source": [
    "#ZOOM\n",
    "\n",
    "fig, ax = plt.subplots()\n",
    "\n",
    "ax.fill_between(\n",
    "    x=forecast_test['ds'],\n",
    "    y1=forecast_test['yhat_lower'],\n",
    "    y2=forecast_test['yhat_upper'],\n",
    "    color=sns_c[2], \n",
    "    alpha=0.25,\n",
    "    label=r'0.95 credible_interval'\n",
    ")\n",
    "\n",
    "sns.lineplot(x='ds', y='y', label='y_test', data=df_test, ax=ax)\n",
    "sns.lineplot(x='ds', y='yhat', label='y_hat', data=forecast_test, ax=ax)\n",
    "ax.legend(loc='lower right')\n",
    "ax.set(title='Dependent Variable', ylabel='');"
   ]
  },
  {
   "cell_type": "code",
   "execution_count": null,
   "id": "cefd3baa",
   "metadata": {
    "scrolled": true
   },
   "outputs": [],
   "source": [
    "m.plot(forecast)"
   ]
  },
  {
   "cell_type": "code",
   "execution_count": null,
   "id": "ce66fae7",
   "metadata": {
    "scrolled": true
   },
   "outputs": [],
   "source": [
    "m.plot_components(forecast)"
   ]
  },
  {
   "cell_type": "code",
   "execution_count": null,
   "id": "abc143cd",
   "metadata": {},
   "outputs": [],
   "source": []
  },
  {
   "cell_type": "code",
   "execution_count": null,
   "id": "8cf7665a",
   "metadata": {},
   "outputs": [],
   "source": [
    "# from prophet.diagnostics import cross_validation\n",
    "# from prophet.diagnostics import performance_metrics\n",
    "# import itertools\n",
    "# import numpy as np\n",
    "# import pandas as pd\n",
    "\n",
    "# param_grid = {  \n",
    "#     'changepoint_prior_scale': [0.001, 0.01, 0.1, 0.5],\n",
    "#     'seasonality_prior_scale': [0.01, 0.1, 1.0, 10.0],\n",
    "# }\n",
    "\n",
    "# #cutoffs = pd.to_datetime([ '2021-08-15', '2022-02-15'])\n",
    "# # Generate all combinations of parameters\n",
    "# all_params = [dict(zip(param_grid.keys(), v)) for v in itertools.product(*param_grid.values())]\n",
    "# rmses = []  # Store the RMSEs for each params here\n",
    "\n",
    "# # Use cross validation to evaluate all parameters\n",
    "# for params in all_params:\n",
    "#     m = Prophet(**params).fit(c)  # Fit model with given params\n",
    "#     df_cv = cross_validation(m, horizon='30 days', parallel=\"processes\")\n",
    "#     df_p = performance_metrics(df_cv, rolling_window=1)\n",
    "#     rmses.append(df_p['rmse'].values[0])\n",
    "\n",
    "# # Find the best parameters\n",
    "# tuning_results = pd.DataFrame(all_params)\n",
    "# tuning_results['rmse'] = rmses\n",
    "# print(tuning_results)\n",
    "\n",
    "\n",
    "# #0.100                     0.01"
   ]
  }
 ],
 "metadata": {
  "kernelspec": {
   "display_name": "Python 3",
   "language": "python",
   "name": "python3"
  },
  "language_info": {
   "codemirror_mode": {
    "name": "ipython",
    "version": 3
   },
   "file_extension": ".py",
   "mimetype": "text/x-python",
   "name": "python",
   "nbconvert_exporter": "python",
   "pygments_lexer": "ipython3",
   "version": "3.8.8"
  }
 },
 "nbformat": 4,
 "nbformat_minor": 5
}
